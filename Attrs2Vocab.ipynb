{
 "cells": [
  {
   "cell_type": "code",
   "execution_count": 1,
   "metadata": {},
   "outputs": [],
   "source": [
    "##########\n",
    "#This script converts attributes to vocab yaml file\n",
    "##########"
   ]
  },
  {
   "cell_type": "code",
   "execution_count": 12,
   "metadata": {},
   "outputs": [
    {
     "name": "stdout",
     "output_type": "stream",
     "text": [
      "Requirement already satisfied: netCDF4 in /usr/local/lib/python3.6/site-packages (1.5.3)\n",
      "Requirement already satisfied: numpy>=1.7 in /usr/local/lib/python3.6/site-packages (from netCDF4) (1.16.4)\n",
      "Requirement already satisfied: cftime in /usr/local/lib/python3.6/site-packages (from netCDF4) (1.1.0)\n",
      "\u001b[33mYou are using pip version 19.0.3, however version 20.1b1 is available.\n",
      "You should consider upgrading via the 'pip install --upgrade pip' command.\u001b[0m\n",
      "Note: you may need to restart the kernel to use updated packages.\n"
     ]
    }
   ],
   "source": [
    "pip install netCDF4"
   ]
  },
  {
   "cell_type": "code",
   "execution_count": null,
   "metadata": {},
   "outputs": [
    {
     "name": "stdout",
     "output_type": "stream",
     "text": [
      "Requirement already satisfied: rdflib in /usr/local/lib/python3.6/site-packages (4.2.2)\n",
      "Requirement already satisfied: isodate in /usr/local/lib/python3.6/site-packages (from rdflib) (0.6.0)\n",
      "Requirement already satisfied: pyparsing in /usr/local/lib/python3.6/site-packages (from rdflib) (2.2.0)\n",
      "Requirement already satisfied: six in /usr/local/lib/python3.6/site-packages (from isodate->rdflib) (1.12.0)\n"
     ]
    }
   ],
   "source": [
    "pip install rdflib"
   ]
  },
  {
   "cell_type": "code",
   "execution_count": 13,
   "metadata": {},
   "outputs": [
    {
     "ename": "SyntaxError",
     "evalue": "invalid syntax (<ipython-input-13-907bb8754030>, line 1)",
     "output_type": "error",
     "traceback": [
      "\u001b[0;36m  File \u001b[0;32m\"<ipython-input-13-907bb8754030>\"\u001b[0;36m, line \u001b[0;32m1\u001b[0m\n\u001b[0;31m    pip install rdflib\u001b[0m\n\u001b[0m              ^\u001b[0m\n\u001b[0;31mSyntaxError\u001b[0m\u001b[0;31m:\u001b[0m invalid syntax\n"
     ]
    }
   ],
   "source": [
    "pip install rdflib\n",
    "pip install PyYAML"
   ]
  },
  {
   "cell_type": "code",
   "execution_count": 2,
   "metadata": {},
   "outputs": [],
   "source": [
    "import yaml\n",
    "import netCDF4\n",
    "from rdflib import Graph, Literal, BNode, Namespace, RDF, URIRef, plugin, ConjunctiveGraph"
   ]
  },
  {
   "cell_type": "code",
   "execution_count": 3,
   "metadata": {},
   "outputs": [
    {
     "name": "stdout",
     "output_type": "stream",
     "text": [
      "Instrument filter_absorption_photometer and variable aerosol_absorption_coefficient:\n",
      "Filename: DK0025G.20030101000000.20170713083448.filter_absorption_photometer.aerosol_absorption_coefficient.aerosol.12y.1h.US08L_Magee_AE16_SUM.US08L_aethalometer.lev2.nc\n",
      "\n",
      "\n",
      "\n",
      " Global attr\n",
      "['Conventions', 'featureType', 'title', 'keywords', 'id', 'naming_authority', 'project', 'acknowledgement', 'license', 'summary', 'source', 'institution', 'processing_level', 'date_created', 'date_metadata_modified', 'creator_name', 'creator_type', 'creator_email', 'creator_institution', 'contributor_name', 'contributor_role', 'publisher_type', 'publisher_name', 'publisher_institution', 'publisher_email', 'publisher_url', 'geospatial_bounds', 'geospatial_bounds_crs', 'geospatial_lat_min', 'geospatial_lat_max', 'geospatial_lon_min', 'geospatial_lon_max', 'geospatial_vertical_min', 'geospatial_vertical_max', 'geospatial_vertical_positive', 'time_coverage_start', 'time_coverage_end', 'time_coverage_duration', 'time_coverage_resolution', 'timezone', 'ebas_metadata']\n",
      "\n",
      "\n",
      "Conventions: CF-1.7, ACDD-1.3\n",
      "featureType: timeSeries\n",
      "title: Ground based in situ observations of aerosol_absorption_coefficient at Summit (DK0025G) using filter_absorption_photometer\n",
      "keywords: NOAA-ESRL, DK0025G, aerosol_absorption_coefficient, Summit, aerosol, GAW-WDCA, volume_absorption_coefficient_in_air_due_to_dried_aerosol_particles\n",
      "id: DK0025G.20030101000000.20170713083448.filter_absorption_photometer.aerosol_absorption_coefficient.aerosol.12y.1h.US08L_Magee_AE16_SUM.US08L_aethalometer.lev2.nc\n",
      "naming_authority: no.nilu.ebas\n",
      "project: NOAA-ESRL, GAW-WDCA\n",
      "acknowledgement: Request acknowledgement details from data originator\n",
      "license: NOAA-ESRL: , GAW-WDCA: \n",
      "summary: Ground based in situ observations of aerosol_absorption_coefficient at Summit (DK0025G) using filter_absorption_photometer. These measurements are gathered as a part of the following projects NOAA-ESRL, GAW-WDCA and they are stored in the EBAS database (http://ebas.nilu.no/). Parameters measured are: aerosol_absorption_coefficient in aerosol (volume_absorption_coefficient_in_air_due_to_dried_aerosol_particles)\n",
      "source: surface observation\n",
      "institution: US08L, National Science Foundation, NSF/OPP, Office of Polar Programs, NSF/OPP, 4201 Wilson Boulevard, , 22230, Arlington VA, USA\n",
      "processing_level: 2: final (Physical parameters, aggregated (if needed), info on variability recommended, quality assured by human inspection. This is the typical EBAS data level meant for dissemination and long term preservation.)\n",
      "date_created: 2017-07-13T08:34:48 UTC\n",
      "date_metadata_modified: 2017-07-13T08:34:48 UTC\n",
      "creator_name: Mike Bergin, John Ogren\n",
      "creator_type: person\n",
      "creator_email: , John.A.Ogren@noaa.gov\n",
      "creator_institution: , \"National Oceanic and Atmospheric Administration/Earth System Research Laboratory/Global Monitoring Division, NOAA/ESRL/GMD\"\n",
      "contributor_name: Mike Bergin\n",
      "contributor_role: data submitter\n",
      "publisher_type: institution\n",
      "publisher_name: NILU - Norwegian Institute for Air Research, ATMOS, EBAS\n",
      "publisher_institution: NILU - Norwegian Institute for Air Research, ATMOS, EBAS\n",
      "publisher_email: ebas@nilu.no\n",
      "publisher_url: http://ebas.nilu.no/\n",
      "geospatial_bounds: POINT Z (72.5800018311 -38.4799995422 3238.0)\n",
      "geospatial_bounds_crs: EPSG:4979\n",
      "geospatial_lat_min: 72.5800018311\n",
      "geospatial_lat_max: 72.5800018311\n",
      "geospatial_lon_min: -38.4799995422\n",
      "geospatial_lon_max: -38.4799995422\n",
      "geospatial_vertical_min: 3238.0\n",
      "geospatial_vertical_max: 3238.0\n",
      "geospatial_vertical_positive: up\n",
      "time_coverage_start: 2003-01-01T00:00:00 UTC\n",
      "time_coverage_end: 2015-01-01T00:00:00 UTC\n",
      "time_coverage_duration: P0012-00-00T00:00:00\n",
      "time_coverage_resolution: P0000-00-00T01:00:00\n",
      "timezone: UTC\n",
      "Data definition: EBAS_1.1\n",
      "Set type code: TU\n",
      "Timezone: UTC\n",
      "File name: DK0025G.20030101000000.20170713083448.filter_absorption_photometer.aerosol_absorption_coefficient.aerosol.12y.1h.US08L_Magee_AE16_SUM.US08L_aethalometer.lev2.nc\n",
      "File creation: 20190513125103\n",
      "Startdate: 20030101000000\n",
      "Revision date: 20170713083448\n",
      "Version: 1\n",
      "Data level: 2\n",
      "Period code: 12y\n",
      "Resolution code: 1h\n",
      "Sample duration: 1h\n",
      "Orig. time res.: 1mn\n",
      "Station code: DK0025G\n",
      "Platform code: DK0025S\n",
      "Station name: Summit\n",
      "Station WDCA-ID: GAWADK__SUM\n",
      "Station GAW-ID: SUM\n",
      "Station GAW-Name: Summit\n",
      "Station land use: Snowfield\n",
      "Station setting: Polar\n",
      "Station GAW type: G\n",
      "Station WMO region: 6\n",
      "Station latitude: 72.5800018311\n",
      "Station longitude: -38.4799995422\n",
      "Station altitude: 3238.0 m\n",
      "Regime: IMG\n",
      "Component: aerosol_absorption_coefficient\n",
      "Unit: 1/Mm\n",
      "Matrix: aerosol\n",
      "Laboratory code: US08L\n",
      "Instrument type: filter_absorption_photometer\n",
      "Instrument name: Magee_AE16_SUM\n",
      "Instrument manufacturer: Magee\n",
      "Instrument model: AE16\n",
      "Instrument serial number: 175\n",
      "Method ref: US08L_aethalometer\n",
      "Standard method: SOP=GAW227\n",
      "Inlet type: Downward-facing tube\n",
      "Humidity/temperature control: None\n",
      "Volume std. temperature: 273.15 K\n",
      "Volume std. pressure: 1013.25 hPa\n",
      "Detection limit: 0.047429 1/Mm\n",
      "Detection limit expl.: Determined by instrument noise characteristics, no detection limit flag used\n",
      "Measurement uncertainty: 25.0 %\n",
      "Measurement uncertainty expl.: Intercomparisons with thermo-optical analysis have shown an uncertainty of a faktor 2 regardless specific absorption cross-section assumed.\n",
      "Zero/negative values code: Zero/negative possible\n",
      "Zero/negative values: Zero and neg. values may appear due to statistical variations at very low concentrations\n",
      "Organization: US08L, \"National Science Foundation, NSF/OPP, Office of Polar Programs\", NSF/OPP, , \"4201 Wilson Boulevard, , 22230, Arlington VA, USA\", , , , \n",
      "Frameworks: GAW-WDCA NOAA-ESRL\n",
      "Originator: Ogren, John, John.A.Ogren@noaa.gov, National Oceanic and Atmospheric Administration/Earth System Research Laboratory/Global Monitoring Division, NOAA/ESRL/GMD, , 325 Broadway, , 80305, \"Boulder, CO\", USA\n",
      "Submitter: Bergin, Mike, , , , , , , , , \n",
      "Acknowledgement: Request acknowledgement details from data originator\n",
      "Comment: calibration factor / mean ratio=1.0; sample_spot_area=5e-5 m2; Sigma=16.0. Raw EBC data as reported by instrument, which is a factor of 2.0 higher than the value calculated from the reported intensities. EBC should be calculated from intensities.\n",
      "print dictionary\n",
      "\n",
      "{None: {'uri': 'http://actrisexample.eu/ns/NULL', 'label': 'None'}, 'NULL': {'uri': 'http://actrisexample.eu/ns/NULL', 'label': 'NULL'}, 'Conventions': {'uri': 'http://actrisexample.eu/ns/Conventions', 'label': 'Conventions'}, 'featureType': {'uri': 'http://actrisexample.eu/ns/featureType', 'label': 'featureType'}, 'title': {'uri': 'http://actrisexample.eu/ns/title', 'label': 'title'}, 'keywords': {'uri': 'http://actrisexample.eu/ns/keywords', 'label': 'keywords'}, 'id': {'uri': 'http://actrisexample.eu/ns/id', 'label': 'id'}, 'naming_authority': {'uri': 'http://actrisexample.eu/ns/naming_authority', 'label': 'naming_authority'}, 'project': {'uri': 'http://actrisexample.eu/ns/project', 'label': 'project'}, 'acknowledgement': {'uri': 'http://actrisexample.eu/ns/acknowledgement', 'label': 'acknowledgement'}, 'license': {'uri': 'http://actrisexample.eu/ns/license', 'label': 'license'}, 'summary': {'uri': 'http://actrisexample.eu/ns/summary', 'label': 'summary'}, 'source': {'uri': 'http://actrisexample.eu/ns/source', 'label': 'source'}, 'institution': {'uri': 'http://actrisexample.eu/ns/institution', 'label': 'institution'}, 'processing_level': {'uri': 'http://actrisexample.eu/ns/processing_level', 'label': 'processing_level'}, 'date_created': {'uri': 'http://actrisexample.eu/ns/date_created', 'label': 'date_created'}, 'date_metadata_modified': {'uri': 'http://actrisexample.eu/ns/date_metadata_modified', 'label': 'date_metadata_modified'}, 'creator_name': {'uri': 'http://actrisexample.eu/ns/creator_name', 'label': 'creator_name'}, 'creator_type': {'uri': 'http://actrisexample.eu/ns/creator_type', 'label': 'creator_type'}, 'creator_email': {'uri': 'http://actrisexample.eu/ns/creator_email', 'label': 'creator_email'}, 'creator_institution': {'uri': 'http://actrisexample.eu/ns/creator_institution', 'label': 'creator_institution'}, 'contributor_name': {'uri': 'http://actrisexample.eu/ns/contributor_name', 'label': 'contributor_name'}, 'contributor_role': {'uri': 'http://actrisexample.eu/ns/contributor_role', 'label': 'contributor_role'}, 'publisher_type': {'uri': 'http://actrisexample.eu/ns/publisher_type', 'label': 'publisher_type'}, 'publisher_name': {'uri': 'http://actrisexample.eu/ns/publisher_name', 'label': 'publisher_name'}, 'publisher_institution': {'uri': 'http://actrisexample.eu/ns/publisher_institution', 'label': 'publisher_institution'}, 'publisher_email': {'uri': 'http://actrisexample.eu/ns/publisher_email', 'label': 'publisher_email'}, 'publisher_url': {'uri': 'http://actrisexample.eu/ns/publisher_url', 'label': 'publisher_url'}, 'geospatial_bounds': {'uri': 'http://actrisexample.eu/ns/geospatial_bounds', 'label': 'geospatial_bounds'}, 'geospatial_bounds_crs': {'uri': 'http://actrisexample.eu/ns/geospatial_bounds_crs', 'label': 'geospatial_bounds_crs'}, 'geospatial_lat_min': {'uri': 'http://actrisexample.eu/ns/geospatial_lat_min', 'label': 'geospatial_lat_min'}, 'geospatial_lat_max': {'uri': 'http://actrisexample.eu/ns/geospatial_lat_max', 'label': 'geospatial_lat_max'}, 'geospatial_lon_min': {'uri': 'http://actrisexample.eu/ns/geospatial_lon_min', 'label': 'geospatial_lon_min'}, 'geospatial_lon_max': {'uri': 'http://actrisexample.eu/ns/geospatial_lon_max', 'label': 'geospatial_lon_max'}, 'geospatial_vertical_min': {'uri': 'http://actrisexample.eu/ns/geospatial_vertical_min', 'label': 'geospatial_vertical_min'}, 'geospatial_vertical_max': {'uri': 'http://actrisexample.eu/ns/geospatial_vertical_max', 'label': 'geospatial_vertical_max'}, 'geospatial_vertical_positive': {'uri': 'http://actrisexample.eu/ns/geospatial_vertical_positive', 'label': 'geospatial_vertical_positive'}, 'time_coverage_start': {'uri': 'http://actrisexample.eu/ns/time_coverage_start', 'label': 'time_coverage_start'}, 'time_coverage_end': {'uri': 'http://actrisexample.eu/ns/time_coverage_end', 'label': 'time_coverage_end'}, 'time_coverage_duration': {'uri': 'http://actrisexample.eu/ns/time_coverage_duration', 'label': 'time_coverage_duration'}, 'time_coverage_resolution': {'uri': 'http://actrisexample.eu/ns/time_coverage_resolution', 'label': 'time_coverage_resolution'}, 'timezone': {'uri': 'http://actrisexample.eu/ns/timezone', 'label': 'timezone'}, 'Data definition': {'uri': 'http://actrisexample.eu/ns/Data_definition', 'label': 'Data definition'}, 'Set type code': {'uri': 'http://actrisexample.eu/ns/Set_type_code', 'label': 'Set type code'}, 'Timezone': {'uri': 'http://actrisexample.eu/ns/Timezone', 'label': 'Timezone'}, 'File name': {'uri': 'http://actrisexample.eu/ns/File_name', 'label': 'File name'}, 'File creation': {'uri': 'http://actrisexample.eu/ns/File_creation', 'label': 'File creation'}, 'Startdate': {'uri': 'http://actrisexample.eu/ns/Startdate', 'label': 'Startdate'}, 'Revision date': {'uri': 'http://actrisexample.eu/ns/Revision_date', 'label': 'Revision date'}, 'Version': {'uri': 'http://actrisexample.eu/ns/Version', 'label': 'Version'}, 'Data level': {'uri': 'http://actrisexample.eu/ns/Data_level', 'label': 'Data level'}, 'Period code': {'uri': 'http://actrisexample.eu/ns/Period_code', 'label': 'Period code'}, 'Resolution code': {'uri': 'http://actrisexample.eu/ns/Resolution_code', 'label': 'Resolution code'}, 'Sample duration': {'uri': 'http://actrisexample.eu/ns/Sample_duration', 'label': 'Sample duration'}, 'Orig. time res.': {'uri': 'http://actrisexample.eu/ns/Orig._time_res.', 'label': 'Orig. time res.'}, 'Station code': {'uri': 'http://actrisexample.eu/ns/Station_code', 'label': 'Station code'}, 'Platform code': {'uri': 'http://actrisexample.eu/ns/Platform_code', 'label': 'Platform code'}, 'Station name': {'uri': 'http://actrisexample.eu/ns/Station_name', 'label': 'Station name'}, 'Station WDCA-ID': {'uri': 'http://actrisexample.eu/ns/Station_WDCA-ID', 'label': 'Station WDCA-ID'}, 'Station GAW-ID': {'uri': 'http://actrisexample.eu/ns/Station_GAW-ID', 'label': 'Station GAW-ID'}, 'Station GAW-Name': {'uri': 'http://actrisexample.eu/ns/Station_GAW-Name', 'label': 'Station GAW-Name'}, 'Station land use': {'uri': 'http://actrisexample.eu/ns/Station_land_use', 'label': 'Station land use'}, 'Station setting': {'uri': 'http://actrisexample.eu/ns/Station_setting', 'label': 'Station setting'}, 'Station GAW type': {'uri': 'http://actrisexample.eu/ns/Station_GAW_type', 'label': 'Station GAW type'}, 'Station WMO region': {'uri': 'http://actrisexample.eu/ns/Station_WMO_region', 'label': 'Station WMO region'}, 'Station latitude': {'uri': 'http://actrisexample.eu/ns/Station_latitude', 'label': 'Station latitude'}, 'Station longitude': {'uri': 'http://actrisexample.eu/ns/Station_longitude', 'label': 'Station longitude'}, 'Station altitude': {'uri': 'http://actrisexample.eu/ns/Station_altitude', 'label': 'Station altitude'}, 'Regime': {'uri': 'http://actrisexample.eu/ns/Regime', 'label': 'Regime'}, 'Component': {'uri': ['http://actrisexample.eu/ns/Component', 'http://vocab.nerc.ac.uk/collection/P07/current/3TUNI9CM/', 'http://codes.wmo.int/wmdr/ObservedVariableAtmosphere/316', 'http://codes.wmo.int/wmdr/ObservedVariableAtmosphere/317', 'http://codes.wmo.int/wmdr/ObservedVariableAtmosphere/318'], 'label': 'Component'}, 'Unit': {'uri': 'http://actrisexample.eu/ns/Unit', 'label': 'Unit'}, 'Matrix': {'uri': 'http://actrisexample.eu/ns/Matrix', 'label': 'Matrix'}, 'Laboratory code': {'uri': 'http://actrisexample.eu/ns/Laboratory_code', 'label': 'Laboratory code'}, 'Instrument type': {'uri': 'http://actrisexample.eu/ns/Instrument_type', 'label': 'Instrument type'}, 'Instrument name': {'uri': 'http://actrisexample.eu/ns/Instrument_name', 'label': 'Instrument name'}, 'Instrument manufacturer': {'uri': 'http://actrisexample.eu/ns/Instrument_manufacturer', 'label': 'Instrument manufacturer'}, 'Instrument model': {'uri': 'http://actrisexample.eu/ns/Instrument_model', 'label': 'Instrument model'}, 'Instrument serial number': {'uri': 'http://actrisexample.eu/ns/Instrument_serial_number', 'label': 'Instrument serial number'}, 'Method ref': {'uri': 'http://actrisexample.eu/ns/Method_ref', 'label': 'Method ref'}, 'Standard method': {'uri': 'http://actrisexample.eu/ns/Standard_method', 'label': 'Standard method'}, 'Inlet type': {'uri': 'http://actrisexample.eu/ns/Inlet_type', 'label': 'Inlet type'}, 'Humidity/temperature control': {'uri': 'http://actrisexample.eu/ns/Humidity/temperature_control', 'label': 'Humidity/temperature control'}, 'Volume std. temperature': {'uri': 'http://actrisexample.eu/ns/Volume_std._temperature', 'label': 'Volume std. temperature'}, 'Volume std. pressure': {'uri': 'http://actrisexample.eu/ns/Volume_std._pressure', 'label': 'Volume std. pressure'}, 'Detection limit': {'uri': 'http://actrisexample.eu/ns/Detection_limit', 'label': 'Detection limit'}, 'Detection limit expl.': {'uri': 'http://actrisexample.eu/ns/Detection_limit_expl.', 'label': 'Detection limit expl.'}, 'Measurement uncertainty': {'uri': 'http://actrisexample.eu/ns/Measurement_uncertainty', 'label': 'Measurement uncertainty'}, 'Measurement uncertainty expl.': {'uri': 'http://actrisexample.eu/ns/Measurement_uncertainty_expl.', 'label': 'Measurement uncertainty expl.'}, 'Zero/negative values code': {'uri': 'http://actrisexample.eu/ns/Zero/negative_values_code', 'label': 'Zero/negative values code'}, 'Zero/negative values': {'uri': 'http://actrisexample.eu/ns/Zero/negative_values', 'label': 'Zero/negative values'}, 'Organization': {'uri': 'http://actrisexample.eu/ns/Organization', 'label': 'Organization'}, 'Frameworks': {'uri': 'http://actrisexample.eu/ns/Frameworks', 'label': 'Frameworks'}, 'Originator': {'uri': 'http://actrisexample.eu/ns/Originator', 'label': 'Originator'}, 'Submitter': {'uri': 'http://actrisexample.eu/ns/Submitter', 'label': 'Submitter'}, 'Acknowledgement': {'uri': 'http://actrisexample.eu/ns/Acknowledgement', 'label': 'Acknowledgement'}, 'Comment': {'uri': 'http://actrisexample.eu/ns/Comment', 'label': 'Comment'}, 'hasvalue': {'uri': 'http://actrisexample.eu/ns/hasvalue', 'label': 'hasvalue'}, 'measures': {'uri': 'http://actrisexample.eu/ns/measures', 'label': 'measures'}}\n"
     ]
    }
   ],
   "source": [
    "ae = Namespace(\"http://actrisexample.eu/ns/\")\n",
    "\n",
    "vocab = dict()\n",
    "vocab[None] = {'uri': 'http://actrisexample.eu/ns/NULL', 'label': 'None'}\n",
    "vocab['NULL'] = {'uri': 'http://actrisexample.eu/ns/NULL', 'label': 'NULL'}\n",
    "print('Instrument filter_absorption_photometer and variable aerosol_absorption_coefficient:\\nFilename: DK0025G.20030101000000.20170713083448.filter_absorption_photometer.aerosol_absorption_coefficient.aerosol.12y.1h.US08L_Magee_AE16_SUM.US08L_aethalometer.lev2.nc\\n\\n')\n",
    "\n",
    "# use the netcdf4 lib to extract netcdf via the opendap protocol\n",
    "dataset = netCDF4.Dataset('DK0025G.20030101000000.20170713083448.filter_absorption_photometer.aerosol_absorption_coefficient.aerosol.12y.1h.US08L_Magee_AE16_SUM.US08L_aethalometer.lev2.nc','r','NETCDF4')\n",
    "# fetch global attributes from netcdf on the thredds server\n",
    "global_attr = dataset.ncattrs()\n",
    "\n",
    "print(\"\\n Global attr\")\n",
    "print(global_attr)\n",
    "print(\"\\n\")\n",
    "\n",
    "\n",
    "for attr in global_attr:\n",
    "    if(attr == \"ebas_metadata\"):\n",
    "        ebas_metadata = eval(dataset.getncattr(attr))\n",
    "        for k,v in ebas_metadata.items():\n",
    "            print('{0}: {1}'.format(k, v))\n",
    "            if (k==\"Component\"):\n",
    "                ###################\n",
    "                # manually build an item in the vocab dictionary for the linkig between the component name used in ACTRIS and the CF \n",
    "                # standard name.Here is a list of variables from the file with the attribute standard name:\n",
    "                #\n",
    "                #string aerosol_absorption_coefficient_prec1587:standard_name = \"volume_absorption_coefficient_in_air_due_to_dried_aerosol_particles\" ;\n",
    "                #string aerosol_absorption_coefficient_amean:standard_name = \"volume_absorption_coefficient_in_air_due_to_dried_aerosol_particles\" ;\n",
    "                #string aerosol_absorption_coefficient_perc8413:standard_name = \"volume_absorption_coefficient_in_air_due_to_dried_aerosol_particles\" ;\n",
    "                #string :keywords = \"NOAA-ESRL, DK0025G, aerosol_absorption_coefficient, Summit, aerosol, GAW-WDCA, volume_absorption_coefficient_in_air_due_to_dried_aerosol_particles\" ;\n",
    "                #\n",
    "                # Also, there is a mapping between the WIGOS codes and CF standard names.\n",
    "                #\n",
    "                # This should be automated later.\n",
    "                ####################    \n",
    "                uri_str = \"http://actrisexample.eu/ns/\" + str(k)\n",
    "                multi_uris = [uri_str, \"http://vocab.nerc.ac.uk/collection/P07/current/3TUNI9CM/\", \"http://codes.wmo.int/wmdr/ObservedVariableAtmosphere/316\", \"http://codes.wmo.int/wmdr/ObservedVariableAtmosphere/317\", \"http://codes.wmo.int/wmdr/ObservedVariableAtmosphere/318\"]\n",
    "                vocab[k] = {'uri': multi_uris, 'label': 'Component'}\n",
    "            else:\n",
    "                uri_str = \"http://actrisexample.eu/ns/\" + str(k).replace(' ','_')\n",
    "                vocab[k] = {'uri': uri_str, 'label':str(k)}\n",
    "    else:\n",
    "        print('{0}: {1}'.format(attr, dataset.getncattr(attr)))\n",
    "        uri_str = \"http://actrisexample.eu/ns/\" + str(attr).replace(' ','_')\n",
    "        vocab[attr] = {'uri': uri_str, 'label':str(attr).replace(' ','_')}\n",
    "    \n",
    "\n",
    "vocab['hasvalue'] = {'uri': 'http://actrisexample.eu/ns/hasvalue', 'label': 'hasvalue'}\n",
    "\n",
    "vocab['measures'] = {'uri': 'http://actrisexample.eu/ns/measures', 'label': 'measures'}\n",
    "\n",
    "print(\"print dictionary\\n\")\n",
    "print(vocab)\n",
    "\n",
    "\n",
    "with open(r'vocab.yaml', 'w') as file:\n",
    "    documents = yaml.dump(vocab, file)"
   ]
  },
  {
   "cell_type": "code",
   "execution_count": null,
   "metadata": {},
   "outputs": [],
   "source": []
  }
 ],
 "metadata": {
  "kernelspec": {
   "display_name": "Python 3",
   "language": "python",
   "name": "python3"
  },
  "language_info": {
   "codemirror_mode": {
    "name": "ipython",
    "version": 3
   },
   "file_extension": ".py",
   "mimetype": "text/x-python",
   "name": "python",
   "nbconvert_exporter": "python",
   "pygments_lexer": "ipython3",
   "version": "3.6.1"
  }
 },
 "nbformat": 4,
 "nbformat_minor": 2
}
